{
 "cells": [
  {
   "cell_type": "code",
   "execution_count": 10,
   "metadata": {},
   "outputs": [],
   "source": [
    "#Documentation about the trees sample file\n",
    "?trees"
   ]
  },
  {
   "cell_type": "code",
   "execution_count": 11,
   "metadata": {},
   "outputs": [
    {
     "data": {
      "text/html": [
       "<table>\n",
       "<caption>A data.frame: 31 × 3</caption>\n",
       "<thead>\n",
       "\t<tr><th scope=col>Girth</th><th scope=col>Height</th><th scope=col>Volume</th></tr>\n",
       "\t<tr><th scope=col>&lt;dbl&gt;</th><th scope=col>&lt;dbl&gt;</th><th scope=col>&lt;dbl&gt;</th></tr>\n",
       "</thead>\n",
       "<tbody>\n",
       "\t<tr><td> 8.3</td><td>70</td><td>10.3</td></tr>\n",
       "\t<tr><td> 8.6</td><td>65</td><td>10.3</td></tr>\n",
       "\t<tr><td> 8.8</td><td>63</td><td>10.2</td></tr>\n",
       "\t<tr><td>10.5</td><td>72</td><td>16.4</td></tr>\n",
       "\t<tr><td>10.7</td><td>81</td><td>18.8</td></tr>\n",
       "\t<tr><td>10.8</td><td>83</td><td>19.7</td></tr>\n",
       "\t<tr><td>11.0</td><td>66</td><td>15.6</td></tr>\n",
       "\t<tr><td>11.0</td><td>75</td><td>18.2</td></tr>\n",
       "\t<tr><td>11.1</td><td>80</td><td>22.6</td></tr>\n",
       "\t<tr><td>11.2</td><td>75</td><td>19.9</td></tr>\n",
       "\t<tr><td>11.3</td><td>79</td><td>24.2</td></tr>\n",
       "\t<tr><td>11.4</td><td>76</td><td>21.0</td></tr>\n",
       "\t<tr><td>11.4</td><td>76</td><td>21.4</td></tr>\n",
       "\t<tr><td>11.7</td><td>69</td><td>21.3</td></tr>\n",
       "\t<tr><td>12.0</td><td>75</td><td>19.1</td></tr>\n",
       "\t<tr><td>12.9</td><td>74</td><td>22.2</td></tr>\n",
       "\t<tr><td>12.9</td><td>85</td><td>33.8</td></tr>\n",
       "\t<tr><td>13.3</td><td>86</td><td>27.4</td></tr>\n",
       "\t<tr><td>13.7</td><td>71</td><td>25.7</td></tr>\n",
       "\t<tr><td>13.8</td><td>64</td><td>24.9</td></tr>\n",
       "\t<tr><td>14.0</td><td>78</td><td>34.5</td></tr>\n",
       "\t<tr><td>14.2</td><td>80</td><td>31.7</td></tr>\n",
       "\t<tr><td>14.5</td><td>74</td><td>36.3</td></tr>\n",
       "\t<tr><td>16.0</td><td>72</td><td>38.3</td></tr>\n",
       "\t<tr><td>16.3</td><td>77</td><td>42.6</td></tr>\n",
       "\t<tr><td>17.3</td><td>81</td><td>55.4</td></tr>\n",
       "\t<tr><td>17.5</td><td>82</td><td>55.7</td></tr>\n",
       "\t<tr><td>17.9</td><td>80</td><td>58.3</td></tr>\n",
       "\t<tr><td>18.0</td><td>80</td><td>51.5</td></tr>\n",
       "\t<tr><td>18.0</td><td>80</td><td>51.0</td></tr>\n",
       "\t<tr><td>20.6</td><td>87</td><td>77.0</td></tr>\n",
       "</tbody>\n",
       "</table>\n"
      ],
      "text/latex": [
       "A data.frame: 31 × 3\n",
       "\\begin{tabular}{r|lll}\n",
       " Girth & Height & Volume\\\\\n",
       " <dbl> & <dbl> & <dbl>\\\\\n",
       "\\hline\n",
       "\t  8.3 & 70 & 10.3\\\\\n",
       "\t  8.6 & 65 & 10.3\\\\\n",
       "\t  8.8 & 63 & 10.2\\\\\n",
       "\t 10.5 & 72 & 16.4\\\\\n",
       "\t 10.7 & 81 & 18.8\\\\\n",
       "\t 10.8 & 83 & 19.7\\\\\n",
       "\t 11.0 & 66 & 15.6\\\\\n",
       "\t 11.0 & 75 & 18.2\\\\\n",
       "\t 11.1 & 80 & 22.6\\\\\n",
       "\t 11.2 & 75 & 19.9\\\\\n",
       "\t 11.3 & 79 & 24.2\\\\\n",
       "\t 11.4 & 76 & 21.0\\\\\n",
       "\t 11.4 & 76 & 21.4\\\\\n",
       "\t 11.7 & 69 & 21.3\\\\\n",
       "\t 12.0 & 75 & 19.1\\\\\n",
       "\t 12.9 & 74 & 22.2\\\\\n",
       "\t 12.9 & 85 & 33.8\\\\\n",
       "\t 13.3 & 86 & 27.4\\\\\n",
       "\t 13.7 & 71 & 25.7\\\\\n",
       "\t 13.8 & 64 & 24.9\\\\\n",
       "\t 14.0 & 78 & 34.5\\\\\n",
       "\t 14.2 & 80 & 31.7\\\\\n",
       "\t 14.5 & 74 & 36.3\\\\\n",
       "\t 16.0 & 72 & 38.3\\\\\n",
       "\t 16.3 & 77 & 42.6\\\\\n",
       "\t 17.3 & 81 & 55.4\\\\\n",
       "\t 17.5 & 82 & 55.7\\\\\n",
       "\t 17.9 & 80 & 58.3\\\\\n",
       "\t 18.0 & 80 & 51.5\\\\\n",
       "\t 18.0 & 80 & 51.0\\\\\n",
       "\t 20.6 & 87 & 77.0\\\\\n",
       "\\end{tabular}\n"
      ],
      "text/markdown": [
       "\n",
       "A data.frame: 31 × 3\n",
       "\n",
       "| Girth &lt;dbl&gt; | Height &lt;dbl&gt; | Volume &lt;dbl&gt; |\n",
       "|---|---|---|\n",
       "|  8.3 | 70 | 10.3 |\n",
       "|  8.6 | 65 | 10.3 |\n",
       "|  8.8 | 63 | 10.2 |\n",
       "| 10.5 | 72 | 16.4 |\n",
       "| 10.7 | 81 | 18.8 |\n",
       "| 10.8 | 83 | 19.7 |\n",
       "| 11.0 | 66 | 15.6 |\n",
       "| 11.0 | 75 | 18.2 |\n",
       "| 11.1 | 80 | 22.6 |\n",
       "| 11.2 | 75 | 19.9 |\n",
       "| 11.3 | 79 | 24.2 |\n",
       "| 11.4 | 76 | 21.0 |\n",
       "| 11.4 | 76 | 21.4 |\n",
       "| 11.7 | 69 | 21.3 |\n",
       "| 12.0 | 75 | 19.1 |\n",
       "| 12.9 | 74 | 22.2 |\n",
       "| 12.9 | 85 | 33.8 |\n",
       "| 13.3 | 86 | 27.4 |\n",
       "| 13.7 | 71 | 25.7 |\n",
       "| 13.8 | 64 | 24.9 |\n",
       "| 14.0 | 78 | 34.5 |\n",
       "| 14.2 | 80 | 31.7 |\n",
       "| 14.5 | 74 | 36.3 |\n",
       "| 16.0 | 72 | 38.3 |\n",
       "| 16.3 | 77 | 42.6 |\n",
       "| 17.3 | 81 | 55.4 |\n",
       "| 17.5 | 82 | 55.7 |\n",
       "| 17.9 | 80 | 58.3 |\n",
       "| 18.0 | 80 | 51.5 |\n",
       "| 18.0 | 80 | 51.0 |\n",
       "| 20.6 | 87 | 77.0 |\n",
       "\n"
      ],
      "text/plain": [
       "   Girth Height Volume\n",
       "1   8.3  70     10.3  \n",
       "2   8.6  65     10.3  \n",
       "3   8.8  63     10.2  \n",
       "4  10.5  72     16.4  \n",
       "5  10.7  81     18.8  \n",
       "6  10.8  83     19.7  \n",
       "7  11.0  66     15.6  \n",
       "8  11.0  75     18.2  \n",
       "9  11.1  80     22.6  \n",
       "10 11.2  75     19.9  \n",
       "11 11.3  79     24.2  \n",
       "12 11.4  76     21.0  \n",
       "13 11.4  76     21.4  \n",
       "14 11.7  69     21.3  \n",
       "15 12.0  75     19.1  \n",
       "16 12.9  74     22.2  \n",
       "17 12.9  85     33.8  \n",
       "18 13.3  86     27.4  \n",
       "19 13.7  71     25.7  \n",
       "20 13.8  64     24.9  \n",
       "21 14.0  78     34.5  \n",
       "22 14.2  80     31.7  \n",
       "23 14.5  74     36.3  \n",
       "24 16.0  72     38.3  \n",
       "25 16.3  77     42.6  \n",
       "26 17.3  81     55.4  \n",
       "27 17.5  82     55.7  \n",
       "28 17.9  80     58.3  \n",
       "29 18.0  80     51.5  \n",
       "30 18.0  80     51.0  \n",
       "31 20.6  87     77.0  "
      ]
     },
     "metadata": {},
     "output_type": "display_data"
    }
   ],
   "source": [
    "#Load the sample data \"trees\" into a dataframe df\n",
    "df <- trees\n",
    "trees"
   ]
  },
  {
   "cell_type": "code",
   "execution_count": 13,
   "metadata": {},
   "outputs": [
    {
     "name": "stderr",
     "output_type": "stream",
     "text": [
      "Registered S3 methods overwritten by 'ggplot2':\n",
      "  method         from \n",
      "  [.quosures     rlang\n",
      "  c.quosures     rlang\n",
      "  print.quosures rlang\n",
      "── \u001b[1mAttaching packages\u001b[22m ─────────────────────────────────────── tidyverse 1.2.1 ──\n",
      "\u001b[32m✔\u001b[39m \u001b[34mggplot2\u001b[39m 3.1.1     \u001b[32m✔\u001b[39m \u001b[34mpurrr  \u001b[39m 0.3.2\n",
      "\u001b[32m✔\u001b[39m \u001b[34mtibble \u001b[39m 2.1.2     \u001b[32m✔\u001b[39m \u001b[34mdplyr  \u001b[39m 0.8.1\n",
      "\u001b[32m✔\u001b[39m \u001b[34mtidyr  \u001b[39m 0.8.3     \u001b[32m✔\u001b[39m \u001b[34mstringr\u001b[39m 1.4.0\n",
      "\u001b[32m✔\u001b[39m \u001b[34mreadr  \u001b[39m 1.3.1     \u001b[32m✔\u001b[39m \u001b[34mforcats\u001b[39m 0.4.0\n",
      "── \u001b[1mConflicts\u001b[22m ────────────────────────────────────────── tidyverse_conflicts() ──\n",
      "\u001b[31m✖\u001b[39m \u001b[34mdplyr\u001b[39m::\u001b[32mfilter()\u001b[39m masks \u001b[34mstats\u001b[39m::filter()\n",
      "\u001b[31m✖\u001b[39m \u001b[34mdplyr\u001b[39m::\u001b[32mlag()\u001b[39m    masks \u001b[34mstats\u001b[39m::lag()\n"
     ]
    },
    {
     "data": {
      "image/png": "[encoded data removed]",
      "text/plain": [
       "plot without title"
      ]
     },
     "metadata": {},
     "output_type": "display_data"
    }
   ],
   "source": [
    "library(\"tidyverse\")\n",
    "ggplot (df, aes (x=Girth, y=Volume)) + geom_point()"
   ]
  },
  {
   "cell_type": "code",
   "execution_count": null,
   "metadata": {},
   "outputs": [],
   "source": []
  }
 ],
 "metadata": {
  "kernelspec": {
   "display_name": "R",
   "language": "R",
   "name": "ir"
  },
  "language_info": {
   "codemirror_mode": "r",
   "file_extension": ".r",
   "mimetype": "text/x-r-source",
   "name": "R",
   "pygments_lexer": "r",
   "version": "3.6.0"
  }
 },
 "nbformat": 4,
 "nbformat_minor": 2
}
